{
 "cells": [
  {
   "cell_type": "code",
   "execution_count": 1,
   "metadata": {},
   "outputs": [
    {
     "name": "stdout",
     "output_type": "stream",
     "text": [
      "Requirement already satisfied: txtai in c:\\users\\ryan\\appdata\\roaming\\python\\python312\\site-packages (7.0.0)\n",
      "Requirement already satisfied: flask in c:\\python312\\lib\\site-packages (3.0.2)\n",
      "Requirement already satisfied: faiss-cpu>=1.7.1.post2 in c:\\users\\ryan\\appdata\\roaming\\python\\python312\\site-packages (from txtai) (1.8.0)\n",
      "Requirement already satisfied: torch>=1.12.1 in c:\\users\\ryan\\appdata\\roaming\\python\\python312\\site-packages (from txtai) (2.2.1+cu121)\n",
      "Requirement already satisfied: transformers>=4.27.0 in c:\\users\\ryan\\appdata\\roaming\\python\\python312\\site-packages (from txtai) (4.38.2)\n",
      "Requirement already satisfied: huggingface-hub>=0.9.0 in c:\\users\\ryan\\appdata\\roaming\\python\\python312\\site-packages (from txtai) (0.21.3)\n",
      "Requirement already satisfied: numpy>=1.18.4 in c:\\users\\ryan\\appdata\\roaming\\python\\python312\\site-packages (from txtai) (1.26.4)\n",
      "Requirement already satisfied: pyyaml>=5.3 in c:\\users\\ryan\\appdata\\roaming\\python\\python312\\site-packages (from txtai) (6.0.1)\n",
      "Requirement already satisfied: regex>=2022.8.17 in c:\\users\\ryan\\appdata\\roaming\\python\\python312\\site-packages (from txtai) (2023.12.25)\n",
      "Requirement already satisfied: Werkzeug>=3.0.0 in c:\\python312\\lib\\site-packages (from flask) (3.0.1)\n",
      "Requirement already satisfied: Jinja2>=3.1.2 in c:\\users\\ryan\\appdata\\roaming\\python\\python312\\site-packages (from flask) (3.1.2)\n",
      "Requirement already satisfied: itsdangerous>=2.1.2 in c:\\python312\\lib\\site-packages (from flask) (2.1.2)\n",
      "Requirement already satisfied: click>=8.1.3 in c:\\python312\\lib\\site-packages (from flask) (8.1.7)\n",
      "Requirement already satisfied: blinker>=1.6.2 in c:\\python312\\lib\\site-packages (from flask) (1.7.0)\n",
      "Requirement already satisfied: colorama in c:\\users\\ryan\\appdata\\roaming\\python\\python312\\site-packages (from click>=8.1.3->flask) (0.4.6)\n",
      "Requirement already satisfied: filelock in c:\\users\\ryan\\appdata\\roaming\\python\\python312\\site-packages (from huggingface-hub>=0.9.0->txtai) (3.13.1)\n",
      "Requirement already satisfied: fsspec>=2023.5.0 in c:\\users\\ryan\\appdata\\roaming\\python\\python312\\site-packages (from huggingface-hub>=0.9.0->txtai) (2024.2.0)\n",
      "Requirement already satisfied: requests in c:\\users\\ryan\\appdata\\roaming\\python\\python312\\site-packages (from huggingface-hub>=0.9.0->txtai) (2.31.0)\n",
      "Requirement already satisfied: tqdm>=4.42.1 in c:\\python312\\lib\\site-packages (from huggingface-hub>=0.9.0->txtai) (4.66.2)\n",
      "Requirement already satisfied: typing-extensions>=3.7.4.3 in c:\\python312\\lib\\site-packages (from huggingface-hub>=0.9.0->txtai) (4.10.0)\n",
      "Requirement already satisfied: packaging>=20.9 in c:\\users\\ryan\\appdata\\roaming\\python\\python312\\site-packages (from huggingface-hub>=0.9.0->txtai) (23.2)\n",
      "Requirement already satisfied: MarkupSafe>=2.0 in c:\\users\\ryan\\appdata\\roaming\\python\\python312\\site-packages (from Jinja2>=3.1.2->flask) (2.1.3)\n",
      "Requirement already satisfied: sympy in c:\\users\\ryan\\appdata\\roaming\\python\\python312\\site-packages (from torch>=1.12.1->txtai) (1.12)\n",
      "Requirement already satisfied: networkx in c:\\users\\ryan\\appdata\\roaming\\python\\python312\\site-packages (from torch>=1.12.1->txtai) (3.2.1)\n",
      "Requirement already satisfied: tokenizers<0.19,>=0.14 in c:\\users\\ryan\\appdata\\roaming\\python\\python312\\site-packages (from transformers>=4.27.0->txtai) (0.15.2)\n",
      "Requirement already satisfied: safetensors>=0.4.1 in c:\\users\\ryan\\appdata\\roaming\\python\\python312\\site-packages (from transformers>=4.27.0->txtai) (0.4.2)\n",
      "Requirement already satisfied: charset-normalizer<4,>=2 in c:\\users\\ryan\\appdata\\roaming\\python\\python312\\site-packages (from requests->huggingface-hub>=0.9.0->txtai) (3.3.2)\n",
      "Requirement already satisfied: idna<4,>=2.5 in c:\\users\\ryan\\appdata\\roaming\\python\\python312\\site-packages (from requests->huggingface-hub>=0.9.0->txtai) (3.6)\n",
      "Requirement already satisfied: urllib3<3,>=1.21.1 in c:\\python312\\lib\\site-packages (from requests->huggingface-hub>=0.9.0->txtai) (2.2.1)\n",
      "Requirement already satisfied: certifi>=2017.4.17 in c:\\users\\ryan\\appdata\\roaming\\python\\python312\\site-packages (from requests->huggingface-hub>=0.9.0->txtai) (2024.2.2)\n",
      "Requirement already satisfied: mpmath>=0.19 in c:\\users\\ryan\\appdata\\roaming\\python\\python312\\site-packages (from sympy->torch>=1.12.1->txtai) (1.3.0)\n",
      "Note: you may need to restart the kernel to use updated packages.\n"
     ]
    }
   ],
   "source": [
    "%pip install txtai flask"
   ]
  },
  {
   "cell_type": "code",
   "execution_count": 2,
   "metadata": {},
   "outputs": [],
   "source": [
    "import txtai\n",
    "import os\n",
    "import json \n",
    "\n",
    "os.environ[\"KMP_DUPLICATE_LIB_OK\"]=\"TRUE\"\n",
    "\n",
    "# Create embeddings for each web page\n",
    "embeddings = txtai.Embeddings(path=\"sebastian-hofstaetter/distilbert-dot-tas_b-b256-msmarco\", content=True)\n",
    "\n",
    "def to_displayable_text(row):\n",
    "    return f\"{row['url']}\\n{row['summary']}\"\n",
    "\n",
    "if 'final_urls' not in globals():\n",
    "    try:\n",
    "        with open('./data/sublist_llm_summaries_from_pipeline.json', 'r') as f:\n",
    "            final_urls = json.load(f)\n",
    "    except FileNotFoundError:\n",
    "        print('No file found')\n",
    "\n",
    "if final_urls is not None:\n",
    "    embeddings.index([(row[\"url\"], to_displayable_text(row)) for row in final_urls])\n",
    "\n",
    "def search(query, max_results=1):\n",
    "    # Search index\n",
    "    results = embeddings.search(query, max_results)\n",
    "    return results\n",
    "\n",
    "def explain(query, limit=1):\n",
    "    # Explain index\n",
    "    results = embeddings.explain(query,limit=limit)\n",
    "    return results"
   ]
  },
  {
   "cell_type": "code",
   "execution_count": 14,
   "metadata": {},
   "outputs": [
    {
     "name": "stdout",
     "output_type": "stream",
     "text": [
      " * Serving Flask app '__main__'\n",
      " * Debug mode: off\n"
     ]
    },
    {
     "name": "stderr",
     "output_type": "stream",
     "text": [
      "WARNING: This is a development server. Do not use it in a production deployment. Use a production WSGI server instead.\n",
      " * Running on http://127.0.0.1:5000\n",
      "Press CTRL+C to quit\n",
      "127.0.0.1 - - [09/Apr/2024 21:48:22] \"GET / HTTP/1.1\" 200 -\n",
      "127.0.0.1 - - [09/Apr/2024 21:48:22] \"GET /style.css HTTP/1.1\" 200 -\n",
      "127.0.0.1 - - [09/Apr/2024 21:48:24] \"POST /explain HTTP/1.1\" 200 -\n",
      "127.0.0.1 - - [09/Apr/2024 21:48:50] \"POST /search HTTP/1.1\" 200 -\n",
      "127.0.0.1 - - [09/Apr/2024 21:49:03] \"POST /explain HTTP/1.1\" 200 -\n",
      "127.0.0.1 - - [09/Apr/2024 21:51:27] \"GET / HTTP/1.1\" 200 -\n",
      "127.0.0.1 - - [09/Apr/2024 21:51:27] \"GET /style.css HTTP/1.1\" 200 -\n",
      "127.0.0.1 - - [09/Apr/2024 21:51:27] \"GET /favicon.ico HTTP/1.1\" 404 -\n",
      "127.0.0.1 - - [09/Apr/2024 21:51:29] \"POST /explain HTTP/1.1\" 200 -\n",
      "127.0.0.1 - - [09/Apr/2024 21:51:38] \"GET / HTTP/1.1\" 200 -\n",
      "127.0.0.1 - - [09/Apr/2024 21:51:38] \"GET /style.css HTTP/1.1\" 200 -\n",
      "127.0.0.1 - - [09/Apr/2024 21:51:39] \"POST /explain HTTP/1.1\" 200 -\n",
      "127.0.0.1 - - [09/Apr/2024 21:51:48] \"GET / HTTP/1.1\" 200 -\n",
      "127.0.0.1 - - [09/Apr/2024 21:51:48] \"GET /style.css HTTP/1.1\" 200 -\n",
      "127.0.0.1 - - [09/Apr/2024 21:51:49] \"POST /explain HTTP/1.1\" 200 -\n",
      "127.0.0.1 - - [09/Apr/2024 21:55:02] \"POST /explain HTTP/1.1\" 200 -\n",
      "127.0.0.1 - - [09/Apr/2024 21:55:22] \"POST /explain HTTP/1.1\" 200 -\n",
      "127.0.0.1 - - [09/Apr/2024 21:55:45] \"POST /explain HTTP/1.1\" 200 -\n",
      "127.0.0.1 - - [09/Apr/2024 21:56:00] \"POST /explain HTTP/1.1\" 200 -\n",
      "127.0.0.1 - - [09/Apr/2024 21:56:16] \"POST /explain HTTP/1.1\" 200 -\n"
     ]
    }
   ],
   "source": [
    "from flask import Flask, request, jsonify\n",
    "\n",
    "app = Flask(__name__)\n",
    "\n",
    "@app.route('/search', methods=['POST'])\n",
    "def search_endpoint():\n",
    "    \"\"\"Search the embeddings index.\"\"\"\n",
    "    data = request.get_json()\n",
    "    query = data.get('query', '')\n",
    "    max_results = data.get('max_results', 5)\n",
    "    results = search(query, max_results=max_results)\n",
    "    return jsonify({'results': results})\n",
    "\n",
    "@app.route('/explain', methods=['POST'])\n",
    "def explain_endpoint():\n",
    "    \"\"\"Explain the embeddings index.\"\"\"\n",
    "    data = request.get_json()\n",
    "    query = data.get('query', '')\n",
    "    max_results = data.get('max_results', 1)\n",
    "    results = explain(query, max_results)\n",
    "    return jsonify({'results': results})\n",
    "\n",
    "if __name__ == '__main__':\n",
    "    app.run()\n"
   ]
  },
  {
   "attachments": {
    "image.png": {
     "image/png": "[encoded data removed]"
    }
   },
   "cell_type": "markdown",
   "metadata": {},
   "source": [
    "![image.png](attachment:image.png)"
   ]
  }
 ],
 "metadata": {
  "kernelspec": {
   "display_name": "Python 3",
   "language": "python",
   "name": "python3"
  },
  "language_info": {
   "codemirror_mode": {
    "name": "ipython",
    "version": 3
   },
   "file_extension": ".py",
   "mimetype": "text/x-python",
   "name": "python",
   "nbconvert_exporter": "python",
   "pygments_lexer": "ipython3",
   "version": "3.12.2"
  }
 },
 "nbformat": 4,
 "nbformat_minor": 2
}
