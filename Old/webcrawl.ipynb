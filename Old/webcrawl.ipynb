{
 "cells": [
  {
   "cell_type": "code",
   "execution_count": 1,
   "metadata": {},
   "outputs": [
    {
     "data": {
      "text/plain": [
       "131072"
      ]
     },
     "execution_count": 1,
     "metadata": {},
     "output_type": "execute_result"
    }
   ],
   "source": [
    "# Imports\n",
    "import re\n",
    "import requests\n",
    "from bs4 import BeautifulSoup\n",
    "import csv\n",
    "from urllib.parse import urljoin\n",
    "from urllib.parse import urlparse\n",
    "import os\n",
    "import sys\n",
    "import concurrent.futures\n",
    "from concurrent.futures import ThreadPoolExecutor\n",
    "from IPython.display import clear_output, display\n",
    "import csv\n",
    "csv.field_size_limit(2**31 - 1)"
   ]
  },
  {
   "cell_type": "code",
   "execution_count": 2,
   "metadata": {},
   "outputs": [],
   "source": [
    "FILENAME = './results/endpoints.csv'\n",
    "DOMAIN = 'https://charlotte.edu'"
   ]
  },
  {
   "cell_type": "code",
   "execution_count": 3,
   "metadata": {},
   "outputs": [],
   "source": [
    "# Url parameters to exclude/skip\n",
    "EXCLUDE = [\n",
    "    'news-articles',\n",
    "    'news-events',\n",
    "    'news-media',\n",
    "    'linkedin',\n",
    "    'facebook',\n",
    "    'twitter',\n",
    "    'instagram',\n",
    "    'youtube',\n",
    "    'flickr',\n",
    "    'pinterest',\n",
    "    '.com',\n",
    "    '.org',\n",
    "    '.net',\n",
    "    '.gov',\n",
    "    '.pdf',\n",
    "    '.doc',\n",
    "    'xml',\n",
    "    'php',\n",
    "    'mailto:',\n",
    "    '@',\n",
    "    'tel:',\n",
    "    'javascript:',\n",
    "    'tel:',\n",
    "    'sms:',\n",
    "    'mailto:',\n",
    "    'angular',\n",
    "    'react',\n",
    "    '.js',\n",
    "    'event',\n",
    "    'corporate',\n",
    "    '#',\n",
    "    'image',\n",
    "    'gallery',\n",
    "    'taskstream-student-handbook',\n",
    "]"
   ]
  },
  {
   "cell_type": "code",
   "execution_count": 5,
   "metadata": {},
   "outputs": [
    {
     "data": {
      "text/plain": [
       "'Most recent URL: https://library.charlotte.edu/check-out-request/borrow-laptops \\nStatus: Success'"
      ]
     },
     "metadata": {},
     "output_type": "display_data"
    },
    {
     "data": {
      "text/plain": [
       "'Successes: 41, Failures: 0'"
      ]
     },
     "metadata": {},
     "output_type": "display_data"
    }
   ],
   "source": [
    "# Display the progress of the web scraping\n",
    "current_display = display('Starting...', display_id=True)\n",
    "progress_display = display('Starting...', display_id=True)\n",
    "success_count = 0\n",
    "failure_count = 0\n",
    "\n",
    "def print_status(url, status):\n",
    "    global success_count\n",
    "    global failure_count\n",
    "    global current_display\n",
    "    global progress_display\n",
    "    \n",
    "    if status == 'Success':\n",
    "        success_count += 1\n",
    "    if status == 'Failed':\n",
    "        failure_count += 1\n",
    "    if status == 'Exception':\n",
    "        failure_count += 1\n",
    "        \n",
    "    # Print the most recent URL and status, and the total counts    \n",
    "    current_display.update(f'Most recent URL: {url} \\nStatus: {status}')\n",
    "    progress_display.update(f'Successes: {success_count}, Failures: {failure_count}')\n",
    "    \n",
    "\n",
    "def remove_url_prefix(url):\n",
    "    url = url.replace('http://', '').replace('https://', '').replace('www.', '')\n",
    "    return url.lower()\n",
    "\n",
    "def is_valid_url(url):\n",
    "    if any(ex in url for ex in EXCLUDE) or len(url) < 8 or len(url) > 100:\n",
    "        return False\n",
    "    try:\n",
    "        split_url = re.split('https?://', url)\n",
    "        return 'mailto:' not in url and '@' not in url and 'charlotte.edu' in split_url[0] or len(split_url) > 1 and 'charlotte.edu' in split_url[1]\n",
    "    except Exception as e:\n",
    "        print_status(url, 'Exception')\n",
    "        return False\n",
    "    \n",
    "def write_to_csv(valid_endpoints, failed_endpoints):\n",
    "    # Export the endpoints to a CSV file\n",
    "    try:\n",
    "        with open(FILENAME, 'w', newline='', encoding=\"utf-8\") as file:\n",
    "            writer = csv.writer(file)\n",
    "            writer.writerow(['URL', 'Text'])  # Write the column labels\n",
    "            for endpoint in valid_endpoints:  # Write the valid endpoints\n",
    "                writer.writerow(endpoint)\n",
    "            # for endpoint in failed_endpoints:  # Write the failed endpoints\n",
    "            #     writer.writerow(endpoint)\n",
    "            file.flush()\n",
    "            os.fsync(file.fileno())\n",
    "    except Exception as e:\n",
    "        print_status(None, 'Failed')\n",
    "\n",
    "def fetch_url(url):\n",
    "    try:\n",
    "        response = requests.get(url, timeout=10)\n",
    "        if response.status_code == 200:\n",
    "            return ('Success', response.content)\n",
    "        else:\n",
    "            return ('Failed', None)\n",
    "    except (requests.exceptions.RequestException, requests.exceptions.Timeout, ValueError):\n",
    "        print_status(url, 'Failed')\n",
    "        return ('Failed', None)\n",
    "def crawl_domain(domain):\n",
    "    # Initialize sets and lists to keep track of visited URLs, URLs to visit, and endpoints\n",
    "    visited = set()\n",
    "    to_visit = [domain.rstrip('/')]\n",
    "    valid_endpoints = []\n",
    "    failed_endpoints = []\n",
    "\n",
    "    # Use ThreadPoolExecutor to parallelize the web scraping\n",
    "    with ThreadPoolExecutor(max_workers=50) as executor:\n",
    "        \n",
    "        # Submit tasks to the executor for each URL in to_visit that hasn't been visited yet and is valid\n",
    "        futures = {executor.submit(fetch_url, url): url for url in to_visit if is_valid_url(url) and url not in visited}\n",
    "        # Add the URLs that are being visited to the visited set\n",
    "        visited.update(url for url in to_visit if is_valid_url(url))\n",
    "\n",
    "        # Continue until all futures are done\n",
    "        while futures:\n",
    "            # Wait for the first future to complete\n",
    "            done, _ = concurrent.futures.wait(futures, return_when=concurrent.futures.FIRST_COMPLETED)\n",
    "\n",
    "            # Process each completed future\n",
    "            for future in done:\n",
    "                url = futures.pop(future)\n",
    "\n",
    "                try:\n",
    "                    # Get the result of the future\n",
    "                    data = future.result()\n",
    "                except Exception as e:\n",
    "                    # If an exception occurred while fetching the URL, print the status and continue\n",
    "                    print_status(url, 'Failed')\n",
    "                    continue\n",
    "                \n",
    "                # Unpack the status and content from the data\n",
    "                status, content = data\n",
    "                \n",
    "                try:\n",
    "                    if status == 'Success':\n",
    "                        # Parse the HTML content\n",
    "                        soup = BeautifulSoup(content, 'html.parser')\n",
    "                        \n",
    "                        # Link extraction\n",
    "                        # Find all links in the HTML content\n",
    "                        links = soup.find_all('a')\n",
    "                        for link in links:\n",
    "                            href = link.get('href')\n",
    "                            if href is not None:\n",
    "                                # Resolve relative links to absolute links\n",
    "                                full_url = urljoin(domain, href).rstrip('/')\n",
    "                                clean_url = remove_url_prefix(full_url)\n",
    "                                slash_count = urlparse(clean_url).path.count('/')\n",
    "                                # If the URL is valid, hasn't been visited yet, and doesn't have too many slashes, add it to the futures\n",
    "                                if is_valid_url(clean_url) and slash_count <= 2 and clean_url not in visited:\n",
    "                                    futures[executor.submit(fetch_url, full_url)] = full_url\n",
    "                                    visited.add(clean_url)\n",
    "                        \n",
    "                        # Text extraction\n",
    "                        # Remove JavaScript and CSS blocks, and common sections like headers, footers, etc.\n",
    "                        for script in soup([\"script\", \"style\"]):  # Remove JavaScript and CSS blocks\n",
    "                            script.decompose()\n",
    "                        # Remove header, footer, nav, and aside\n",
    "                        for tag in soup([\"header\", \"footer\", \"nav\"]):\n",
    "                            tag.decompose() \n",
    "                        # Remove divs with class \"sidebar\" or \"ad\"\n",
    "                        for div in soup.find_all(\"div\", class_=[\"sidebar\", \"ad\"]):\n",
    "                            div.decompose()\n",
    "                        # Extract text from the HTML content\n",
    "                        text = soup.get_text()  \n",
    "                        text = ' '.join(text.split())\n",
    "                        # Save the text along with the URL and status\n",
    "                        valid_endpoints.append([url, str(text)])  \n",
    "                        print_status(url, status)\n",
    "                        \n",
    "                    else:\n",
    "                        # If the status is not 'Success', add the URL and status to the failed_endpoints list\n",
    "                        failed_endpoints.append([url, ''])\n",
    "                        visited.add(url)\n",
    "                except Exception as e:\n",
    "                    # If an exception occurred while processing the HTML content, print the status and continue\n",
    "                    print_status(url, 'Failed')\n",
    "                    visited.add(url)\n",
    "                    continue\n",
    "        # Write the valid and failed endpoints to a CSV file\n",
    "        write_to_csv(valid_endpoints, failed_endpoints)\n",
    "\n",
    "# Create the directory if it doesn't exist\n",
    "os.makedirs(os.path.dirname(FILENAME), exist_ok=True)\n",
    "\n",
    "# Clear the csv file\n",
    "open(FILENAME, 'w').close()\n",
    "\n",
    "# Crawl the domain\n",
    "crawl_domain(DOMAIN)"
   ]
  },
  {
   "cell_type": "code",
   "execution_count": 5,
   "metadata": {},
   "outputs": [
    {
     "name": "stdout",
     "output_type": "stream",
     "text": [
      "Collecting gensim\n",
      "  Downloading gensim-4.3.2-cp311-cp311-win_amd64.whl.metadata (8.5 kB)\n",
      "Requirement already satisfied: numpy>=1.18.5 in c:\\users\\ryan\\appdata\\local\\programs\\python\\python311\\lib\\site-packages (from gensim) (1.24.3)\n",
      "Requirement already satisfied: scipy>=1.7.0 in c:\\users\\ryan\\appdata\\local\\programs\\python\\python311\\lib\\site-packages (from gensim) (1.10.1)\n",
      "Collecting smart-open>=1.8.1 (from gensim)\n",
      "  Downloading smart_open-6.4.0-py3-none-any.whl.metadata (21 kB)\n",
      "Downloading gensim-4.3.2-cp311-cp311-win_amd64.whl (24.0 MB)\n",
      "   ---------------------------------------- 0.0/24.0 MB ? eta -:--:--\n",
      "   -- ------------------------------------- 1.3/24.0 MB 26.6 MB/s eta 0:00:01\n",
      "   ----- ---------------------------------- 3.5/24.0 MB 54.8 MB/s eta 0:00:01\n",
      "   ------------ --------------------------- 7.7/24.0 MB 61.4 MB/s eta 0:00:01\n",
      "   ------------------ --------------------- 11.1/24.0 MB 65.2 MB/s eta 0:00:01\n",
      "   ------------------------ --------------- 14.8/24.0 MB 81.8 MB/s eta 0:00:01\n",
      "   ----------------------------- ---------- 17.6/24.0 MB 65.6 MB/s eta 0:00:01\n",
      "   ----------------------------------- ---- 21.0/24.0 MB 73.1 MB/s eta 0:00:01\n",
      "   ---------------------------------------  24.0/24.0 MB 72.6 MB/s eta 0:00:01\n",
      "   ---------------------------------------- 24.0/24.0 MB 54.7 MB/s eta 0:00:00\n",
      "Downloading smart_open-6.4.0-py3-none-any.whl (57 kB)\n",
      "   ---------------------------------------- 0.0/57.0 kB ? eta -:--:--\n",
      "   ---------------------------------------- 57.0/57.0 kB ? eta 0:00:00\n",
      "Installing collected packages: smart-open, gensim\n",
      "Successfully installed gensim-4.3.2 smart-open-6.4.0\n",
      "Note: you may need to restart the kernel to use updated packages.\n"
     ]
    }
   ],
   "source": [
    "%pip install gensim"
   ]
  },
  {
   "cell_type": "code",
   "execution_count": 9,
   "metadata": {},
   "outputs": [
    {
     "name": "stderr",
     "output_type": "stream",
     "text": [
      "No model was supplied, defaulted to sshleifer/distilbart-cnn-12-6 and revision a4f8f3e (https://huggingface.co/sshleifer/distilbart-cnn-12-6).\n",
      "Using a pipeline without specifying a model name and revision in production is not recommended.\n"
     ]
    },
    {
     "name": "stdout",
     "output_type": "stream",
     "text": [
      "[{'summary_text': \" The University of North Carolina at Charlotte | UNC Charlotte . The world offers a broader range of career opportunities than ever before . Choose from diverse majors in 90 bachelor's degree programs and more than 100 graduate programs . Explore academic offerings at UNC Charlotte #1 in Latinx Enrollment .\"}]\n",
      "\n",
      "\n",
      "[{'summary_text': \" University of North Carolina at Charlotte is North Carolina's urban research university . The Belk College of Business is generating vital talent for the greater Charlotte economy . The Cato College of Education is supporting North Carolina schools, teachers, superintendents and policy makers working to advance educational research, equity, excellence and engagement .\"}]\n",
      "\n",
      "\n",
      "[{'summary_text': ' J. Murrey Atkins Library has 1,500,000 Visits Per Year 3,800,000 Volumes 57 Reservable Study Rooms . Atkins Introduces the Library Mobile App Film Screen With A Dean .'}]\n",
      "\n",
      "\n"
     ]
    }
   ],
   "source": [
    "test = [[\"https://charlotte.edu\",\"The University of North Carolina at Charlotte | UNC Charlotte Skip to main content News & Events News Music students participating in touring education production Tue, 02/06/2024 UNC Charlotte receives Library Excellence in Access and Diversity Award Fri, 02/02/2024 Excellence in Leadership Awards bestowed on 10 outstanding alumni Fri, 02/02/2024 Young alumni advancing in their fields and communities Thu, 01/25/2024 Noted neuroscience researcher Kelly Cartwright named Spangler Distinguished Professor of Early Literacy Wed, 01/24/2024 View All News Events UNC Charlotte Shape What's Next UNC Charlotte Icons 0 doctoral programs UNC Charlotte Icons 0 Living Alumni UNC Charlotte Icons 0 #NinerNation Undergrads to Overachievers Variety is more than the spice of life. It is life! The world offers a broader range of career opportunities than ever before, which is why we offer the way to explore and prepare for so many of them right. Choose from diverse majors in 90 bachelor's degree programs and more than 100 graduate programs. Explore Academic Offerings at UNC Charlotte #1 in Latinx Enrollment UNC Charlotte outpaces North Carolina's other four-year institutions with Latinx enrollment, undergraduate degrees and graduation rates \"\"It's so important to see other students like me on campus,\"\" says senior Claudia Martinez. Read More Data Science answers the call How UNC Charlotte is responding to industry demand in Charlotte, the region and beyond. Bringing together brilliant minds through interdisciplinary partnership, the University is bridging the gap between society and technology through hands-on programming and research. Read More Where inquiry is put to the ultimate test. Reality. Go beyond hypotheses and theory. Study in a place where on-campus research comes to life in off-campus applications throughout area communities, businesses and industries. Explore Research At UNC Charlotte Quaint & Quiet Lively & Loud Can't decide between a peaceful, picturesque college campus and an action-packed big-city school? Then don't. Get Involved in Campus Life at UNC Charlotte Clubs & Activities Choose from more than 350 student organizations in and out of the classroom at UNC Charlotte. There's something for everyone here! 49er Sports Niner Nation loves cheering on the 49ers and their 18 NCAA Division I varsity sports. Members of the Football Bowl Subdivision (FBS) American Athletic Conference, the 49ers boast some of the nation’s finest facilities and compete against the NCAA’s top competition. Exploring Charlotte Discover the University that lives on the pulse of the city. From professional sports and polished culture to outdoor adventure and recreation, Charlotte is a top destination. Enhancing student motivation and learning Jennifer Webb, Associate Professor of Psychology Revolutionizing teaching practices to benefit students Oscar Lansen, Teaching Professor of History Providing experiential learning opportunities Thomas Marshall, Lecturer in Risk Management Forging connections with students Jordan Poler, Associate Professor of Chemistry Explore Faculty Inside UNC Charlotte\"],\n",
    "[\"https://www.charlotte.edu/academics\",\"Academics at the University of North Carolina at Charlotte | UNC Charlotte Skip to main content Academics Apply Now Visit Our Campus UNC Charlotte, North Carolina's urban research university, fuels American innovation in everything from resilient and sustainable architecture and environmental systems, to epidemiological modeling and sustainable energy, to shaping the future of work for greater Charlotte and beyond. Know What You're Looking For? Search Our Programs The academic search requires JavaScript. Visit the University Catalogs site to view all programs available. Undergraduate Programs Majors Minors Certificates Graduate Programs Graduate Degree Programs Graduate Certificates Online & Professional Programs Online/Distance Education School of Professional Studies Executive Education Explore Our Colleges Belk College of Business Generating vital talent for the greater Charlotte economy — the second largest banking center in the United States — and fresh insights through research for emerging companies across North Carolina. Learn more College of Arts + Architecture A diverse community of visionary thinkers, designers, and makers, who seek to create a more beautiful and just world through innovation, research and collaborative engagement. Learn more Cato College of Education Supporting North Carolina schools, teachers, superintendents and policy makers working to advance educational research, equity, excellence and engagement for all students. Learn more College of Computing & Informatics Fostering critical knowledge and talent to speed next-generation research and technological breakthroughs — Artificial Intelligence, Robotics, Big Data Analysis, Computer-Aided Education, Bioinformatics and Cybersecurity — for North Carolina. Learn more College of Health & Human Services Translating clinical and public health research to improve patient outcomes, especially for vulnerable, underinsured and underserved communities. Learn more College of Science Advancing interdisciplinary research and promoting discovery in the fields of math, chemistry, biology and physics, through supportive, experiential learning and state-of-the-art facilities. Learn more College of Humanities & Earth and Social Sciences Enhancing our understanding of complex issues, from climate change and global migration to health disparities and economic inequality, through interdisciplinary research, student-centered learning, and community engagement. Learn more The William States Lee College of Engineering Among the top engineering programs in North Carolina, where ideas become reality through research, study, design, hands-on prototyping and often interdisciplinary collaboration with industry supporters. Learn more Interdisciplinary Studies Where business meets computer science, biology meets the arts and history combines with engineering — integrative thinkers draw from multiple academic disciplines to lead North Carolina’s top roles in data science, business, law and healthcare. Learn more Academic Excellence The Graduate School Honors College University College Additional Resources Academic Advising Adult and Extended Services Career Center Center for Graduate Life Common Reading Experience Disability Services Academic Diversity and Inclusion International Programs Academic Support Services Writing Center\"],\n",
    "[\"https://library.charlotte.edu\",\"Homepage | J. Murrey Atkins Library Skip to main content Limit To: Articles Peer-reviewed Advanced Search Databases Journals 0 PEOPLE IN ATKINS My Accounts Study Rooms Research Guides Hours Printing Contact Us × Which Account? My Library Account My Interlibrary Loan Account Sign up to receive library news and updates looking for a book that messes with your head?Check out the Psychological Fiction collection in the 2nd Floor Special DisplayRead More Check out our new Board Games, Card Games, and Puzzles CollectionNow available at the Area 49 Desk on the 2nd floor Read More Atkins offers resource guide for Digital HumanitiesRead More A fireside-style discussion about the birth of grassroots activism in CharlotteFebruary 28, 6-7 p.m. Read More Join the Atkins Reading ChallengeGet your bingo card and start READING!Read More Swank Streaming Film CollectionA selection of popular movies for the classroom or at homeRead More 1,500,000 Visits Per Year 3,800,000 Volumes 57 Reservable Study Rooms View More events Digital Humanities Resource Guide UNC Charlotte Receives Library Excellence in DEI Award De-Stress for Success Journal Package Alert Book Presentation, Talk, and Reception De-stress for Success During Exams The Princess Augusta Sophia Collection of Drama Atkins Introduces the Library Mobile App Film Screen With A Dean Focuses on Racial Injustice in the Justice System Exam-time activities planned for students Inaugural Atkins Library Popular Reading Series features Dr. A.J. Hartley Atkins Book Club Discussion Odyssey for Democracy Author, Subject Participate in Panel Discussion The Black Read: Celebrating Black History Month Celebrate the Insulin Centennial Wonderland Poetry Reading and Tea Party Atkins Awarded Second Grant for Mobile Hotspot Lending Atkins Awarded Federal Grant BrowZine Cancellation Film Screen With A Dean: Wilmington on Fire COVID-19 Vaccinations: Science, Politics, Mistrust, and Misinformation Panel Digital Media Literacy Instruction Kate Dickson: A Passion to Protect Atkins Moved Quickly To Keep Services Going During the Pandemic Offsite Storage Move Update Election 2020: How to Verify What You Read, See, and Hear Online Liberry Lager Now Available at Triple C Brewing Atkins Library Reopening Guide Atkins Announces Offsite Storage Location Active Learning Academy Book Published by Atkins Library Dance History II De-stress for Success with Atkins Paywall Film Virtual Panel Discussion Atkins Creating PPE for Healthcare Workers CANCELED: For the Love of Books CANCELED: Author Susan Rivers on \"\"Keeping It Real\"\" Special Collections Holds Rare \"\"Sketches of Charlotte\"\" Booklets Get Ready to be Counted Atkins Library Unveils New Website Disability Advocate and Author Discusses Hidden Disabilities New Combined Library Services at First Floor Desk Atkins Rare Book Used to Create Smithsonian Exhibit Join Our Book Club! Packaging the Past View More News\"]]\n",
    "\n",
    "from transformers import pipeline\n",
    "\n",
    "summarize = pipeline(\"summarization\")\n",
    "\n",
    "for t in test:\n",
    "    print(summarize(t[1], max_length=200, min_length=30))\n",
    "    print(\"\\n\")\n"
   ]
  }
 ],
 "metadata": {
  "kernelspec": {
   "display_name": "Python 3",
   "language": "python",
   "name": "python3"
  },
  "language_info": {
   "codemirror_mode": {
    "name": "ipython",
    "version": 3
   },
   "file_extension": ".py",
   "mimetype": "text/x-python",
   "name": "python",
   "nbconvert_exporter": "python",
   "pygments_lexer": "ipython3",
   "version": "3.12.2"
  }
 },
 "nbformat": 4,
 "nbformat_minor": 2
}
